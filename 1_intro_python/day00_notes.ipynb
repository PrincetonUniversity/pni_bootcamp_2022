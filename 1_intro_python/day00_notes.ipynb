{
 "cells": [
  {
   "cell_type": "markdown",
   "metadata": {},
   "source": [
    "# Section 1: Introduction to Jupyter-Notebooks\n",
    "## Cell Types\n",
    "In Jupyter-Notebooks there are two main types of cells: \n",
    "* **Code:** where python (or other languages) code will be written and executed\n",
    "* **Markdown:** where documentation and organizational details can be written. Interprets the Markdown language. \n",
    "\n",
    "This cell is a Markdown cell. Click on this cell to expose the underlying Markdown code. \n",
    "\n",
    "In addition, in the toolbar directly above, cells can be toggled between *code* and *Markdown*. Additional buttons in the toolbar above allow for cutting, copying, pasting, executing, and stopping cells. Keyboard shortcuts also allow for running these commands without needing to click on the toolbar."
   ]
  },
  {
   "cell_type": "markdown",
   "metadata": {},
   "source": [
    "## Printing and Getting Help\n",
    "Use the **print** command to print variables."
   ]
  },
  {
   "cell_type": "code",
   "execution_count": null,
   "metadata": {},
   "outputs": [],
   "source": [
    "print('Hello, World!'),print(1)"
   ]
  },
  {
   "cell_type": "markdown",
   "metadata": {},
   "source": [
    "With Jupyter notebooks, calling the variable itself acts as a print statement."
   ]
  },
  {
   "cell_type": "code",
   "execution_count": null,
   "metadata": {},
   "outputs": [],
   "source": [
    "1\n",
    "2\n",
    "'Hello, World!'"
   ]
  },
  {
   "cell_type": "markdown",
   "metadata": {},
   "source": [
    "In python, variable assignment is denoted with the equal sign (=). "
   ]
  },
  {
   "cell_type": "code",
   "execution_count": null,
   "metadata": {},
   "outputs": [],
   "source": [
    "msg = 'Hello, World!'\n",
    "print(msg)"
   ]
  },
  {
   "cell_type": "markdown",
   "metadata": {},
   "source": [
    "Getting help is easy in Notebooks: append a '?' to the end of a function/variable."
   ]
  },
  {
   "cell_type": "code",
   "execution_count": null,
   "metadata": {},
   "outputs": [],
   "source": [
    "msg?"
   ]
  },
  {
   "cell_type": "markdown",
   "metadata": {},
   "source": [
    "Jupyter-Notebooks also allow for tab-completion. This can be tremendously helpful in seeing what functions are available. Move the cursor to the function below and hit the tab key."
   ]
  },
  {
   "cell_type": "code",
   "execution_count": null,
   "metadata": {},
   "outputs": [],
   "source": [
    "str."
   ]
  },
  {
   "cell_type": "markdown",
   "metadata": {},
   "source": [
    "# Section 2: Introduction to Python\n",
    "\n",
    "## Basic Data Types in Python\n",
    "\n",
    "### Integers, Floats, and Mathematic Operations\n",
    "Integers are numbers without a decimal point."
   ]
  },
  {
   "cell_type": "code",
   "execution_count": null,
   "metadata": {},
   "outputs": [],
   "source": [
    "print(1, type"
   ]
  },
  {
   "cell_type": "markdown",
   "metadata": {},
   "source": [
    "Floats are numbers with a decimal point."
   ]
  },
  {
   "cell_type": "code",
   "execution_count": null,
   "metadata": {},
   "outputs": [],
   "source": [
    "print(1.3, type(1.3))"
   ]
  },
  {
   "cell_type": "markdown",
   "metadata": {},
   "source": [
    "Adding a decimal point will convert an integer to a float."
   ]
  },
  {
   "cell_type": "code",
   "execution_count": null,
   "metadata": {},
   "outputs": [],
   "source": [
    "print(1., type(1.))"
   ]
  },
  {
   "cell_type": "markdown",
   "metadata": {},
   "source": [
    "These are the basic operators in python:"
   ]
  },
  {
   "cell_type": "code",
   "execution_count": null,
   "metadata": {},
   "outputs": [],
   "source": [
    "print(4 + 2)   # Addition\n",
    "print(4 - 2)   # Substraction\n",
    "print(4 * 2)   # Multiplication\n",
    "print(4 / 2)   # Division\n",
    "print(4 % 2)   # Remainder (modulo)\n",
    "print(4 ** 2)  # Exponent"
   ]
  },
  {
   "cell_type": "markdown",
   "metadata": {},
   "source": [
    "Floats dominate integers in operations:"
   ]
  },
  {
   "cell_type": "code",
   "execution_count": null,
   "metadata": {},
   "outputs": [],
   "source": [
    "print(4 + 2.)\n",
    "print(4 / 2.)\n",
    "print(4 ** 2.)\n",
    "print(4 // 2)  # Except for integer division!"
   ]
  },
  {
   "cell_type": "code",
   "execution_count": null,
   "metadata": {},
   "outputs": [],
   "source": [
    "5 // 2"
   ]
  },
  {
   "cell_type": "markdown",
   "metadata": {},
   "source": [
    "Python also supports scientific notation and complex numbers:"
   ]
  },
  {
   "cell_type": "code",
   "execution_count": null,
   "metadata": {},
   "outputs": [],
   "source": [
    "print(1e30)\n",
    "print(2+3j)"
   ]
  },
  {
   "cell_type": "markdown",
   "metadata": {},
   "source": [
    "The numeric classes are special in that they allow in-place assignment for convenience. "
   ]
  },
  {
   "cell_type": "code",
   "execution_count": null,
   "metadata": {},
   "outputs": [],
   "source": [
    "## Make new variable.\n",
    "x = 1.\n",
    "\n",
    "## In-place addition\n",
    "x += 1.\n",
    "print(x)\n",
    "\n",
    "## In-place multiplcation.\n",
    "x *= 2.\n",
    "print(x)\n",
    "\n",
    "## In-place exponentiation.\n",
    "x **= 2.\n",
    "print(x)"
   ]
  },
  {
   "cell_type": "markdown",
   "metadata": {},
   "source": [
    "### Checkpoint: In-place operations.\n",
    "How would you do in-place subtraction? Division?"
   ]
  },
  {
   "cell_type": "code",
   "execution_count": null,
   "metadata": {},
   "outputs": [],
   "source": [
    "x -= 2.\n",
    "print(x)"
   ]
  },
  {
   "cell_type": "markdown",
   "metadata": {},
   "source": [
    "### Booleans\n",
    "The Boolean objects in Python are the **True** and **False** objects."
   ]
  },
  {
   "cell_type": "code",
   "execution_count": null,
   "metadata": {},
   "outputs": [],
   "source": [
    "print(True, False) \n",
    "if 4 != 2:\n",
    "    print ('hello')"
   ]
  },
  {
   "cell_type": "markdown",
   "metadata": {},
   "source": [
    "These are the comparison operators in python:"
   ]
  },
  {
   "cell_type": "code",
   "execution_count": null,
   "metadata": {},
   "outputs": [],
   "source": [
    "print('4 > 2:  %s' %(4 > 2))    # Greater than\n",
    "print('4 < 2:  %s' %(4 < 2))    # Less than\n",
    "print('4 == 2: %s' %(4 == 2))   # Equal to\n",
    "print('4 >= 2: %s' %(4 >= 2))   # Greater than or equal to\n",
    "print('4 <= 2: %s' %(4 <= 2))   # Less than or equal to\n",
    "print('4 != 2: %s' %(4 != 2))   # Not equal to"
   ]
  },
  {
   "cell_type": "markdown",
   "metadata": {},
   "source": [
    "In Python, True and False are equvalent to the integers 1 and 0, respectively."
   ]
  },
  {
   "cell_type": "code",
   "execution_count": null,
   "metadata": {},
   "outputs": [],
   "source": [
    "print(True == 9)   # True is equivalent to 1.\n",
    "print(False == 0)  # False is equivalent to 0."
   ]
  },
  {
   "cell_type": "markdown",
   "metadata": {},
   "source": [
    "Another way to demonstrate this point is to convert booleans to integers."
   ]
  },
  {
   "cell_type": "code",
   "execution_count": null,
   "metadata": {},
   "outputs": [],
   "source": [
    "print( int(True) )\n",
    "print( int(False) )"
   ]
  },
  {
   "cell_type": "markdown",
   "metadata": {},
   "source": [
    "Python also uses **is** and **not** operators as another means of checking for equality of numbers..."
   ]
  },
  {
   "cell_type": "code",
   "execution_count": null,
   "metadata": {},
   "outputs": [],
   "source": [
    "x=4\n",
    "z=4\n",
    "\n",
    "print(4 is 2)\n",
    "print(4 is not 2)\n"
   ]
  },
  {
   "cell_type": "markdown",
   "metadata": {},
   "source": [
    "HOWEVER, **is** is technically checking if objects are identical. So stick to == when comparing **values**"
   ]
  },
  {
   "cell_type": "code",
   "execution_count": null,
   "metadata": {},
   "outputs": [],
   "source": [
    "x=['hello']\n",
    "y=['hello']\n",
    "z=x\n",
    "print(x is y)\n",
    "print(x == y)\n",
    "print(x is z)"
   ]
  },
  {
   "cell_type": "markdown",
   "metadata": {},
   "source": [
    "### Checkpoint: Comparisons\n",
    "Digital computers have memory limitations and cannot represent arbitrarily large and small numbers. Using Scientific notation (e.g. 1e-10) and the *equals to* operator (==), find an arbitrarily small number that is equal to zero."
   ]
  },
  {
   "cell_type": "code",
   "execution_count": null,
   "metadata": {},
   "outputs": [],
   "source": [
    "1e-1000 == 0"
   ]
  },
  {
   "cell_type": "markdown",
   "metadata": {},
   "source": [
    "### Text and Strings "
   ]
  },
  {
   "cell_type": "markdown",
   "metadata": {},
   "source": [
    "Strings are demarcated by single or double quotation marks."
   ]
  },
  {
   "cell_type": "code",
   "execution_count": null,
   "metadata": {},
   "outputs": [],
   "source": [
    "string1 = \"a run-of-the-mill string\"\n",
    "string2 = '\\'a run-of-the-mill string\\''\n",
    "print(string2)"
   ]
  },
  {
   "cell_type": "markdown",
   "metadata": {},
   "source": [
    "Paragraphs (e.g. docstrings) can be written with triple quotes:"
   ]
  },
  {
   "cell_type": "code",
   "execution_count": null,
   "metadata": {},
   "outputs": [],
   "source": [
    "paragraph = \"\"\"You can use the triple quotes to write paragraphs\n",
    "of text. Note that any line-break is maintained. Triple quotes are\n",
    "used to define function docstrings.\"\"\"\n",
    "\n",
    "paragraph\n",
    "\n",
    "# comments: this is how this works\n",
    "\"\"\"\n",
    "\n",
    "\"\"\""
   ]
  },
  {
   "cell_type": "code",
   "execution_count": null,
   "metadata": {},
   "outputs": [],
   "source": [
    "def test_function(p1, p2, p3):\n",
    "    \"\"\"\n",
    "    test_function does blah blah blah.\n",
    "\n",
    "    :param p1: describe about parameter p1\n",
    "    :param p2: describe about parameter p2\n",
    "    :param p3: describe about parameter p3\n",
    "    :return: describe what it returns\n",
    "    \"\"\" \n",
    "    pass"
   ]
  },
  {
   "cell_type": "code",
   "execution_count": null,
   "metadata": {},
   "outputs": [],
   "source": [
    "test_function?"
   ]
  },
  {
   "cell_type": "markdown",
   "metadata": {},
   "source": [
    "One very useful feature is string substition, where text or numbers can be inserted into a string. String substitution is denoted by the by the percent operator. Different substitutions types exist.  "
   ]
  },
  {
   "cell_type": "code",
   "execution_count": null,
   "metadata": {},
   "outputs": [],
   "source": [
    "# %s: Insert as string (no modification).\n",
    "name = \"Bear\"\n",
    "print('Hi, my name is %s!' %name)   "
   ]
  },
  {
   "cell_type": "code",
   "execution_count": null,
   "metadata": {},
   "outputs": [],
   "source": [
    "# %0._f: Insert a number rounded to the _th digit.\n",
    "pi = 3.14159\n",
    "print('Pi to the 2nd digit is %0.2f.' %pi)"
   ]
  },
  {
   "cell_type": "code",
   "execution_count": null,
   "metadata": {},
   "outputs": [],
   "source": [
    "# %0._d: Insert a number prepended with _ zeros.\n",
    "num = 10\n",
    "print('Prepend two zeros: %0.3d' %num)"
   ]
  },
  {
   "cell_type": "markdown",
   "metadata": {},
   "source": [
    "A new method for string substitution is f-strings."
   ]
  },
  {
   "cell_type": "code",
   "execution_count": null,
   "metadata": {},
   "outputs": [],
   "source": [
    "print( f\"When you think about it, aren't we all just {string}?\" )"
   ]
  },
  {
   "cell_type": "markdown",
   "metadata": {},
   "source": [
    "The string object has many associated functions that can be used to modify the string."
   ]
  },
  {
   "cell_type": "code",
   "execution_count": null,
   "metadata": {},
   "outputs": [],
   "source": [
    "## Capitalize string.\n",
    "capitalized = string.capitalize()\n",
    "print('Capitalize:    %s' %capitalized)\n",
    "\n",
    "## Uppercase string.\n",
    "upper = string.upper()\n",
    "print('Uppercase:     %s' %upper)\n",
    "\n",
    "## Count \"i\"s.\n",
    "num_is = string.count('i')\n",
    "print('Count \"i\"s:    %s' %num_is) \n",
    "\n",
    "## Replace \"i\" for \"o\"s.\n",
    "io = string.replace('i','o')\n",
    "print( 'Replace (i,o): %s' %io)"
   ]
  },
  {
   "cell_type": "markdown",
   "metadata": {},
   "source": [
    "Strings are easily combined, through with the \n",
    "addition operator or the join attribute."
   ]
  },
  {
   "cell_type": "code",
   "execution_count": null,
   "metadata": {},
   "outputs": [],
   "source": [
    "## Strings joined with addition operator.\n",
    "joined = 'This is the first half.' + ' ' + 'This is the second half.'\n",
    "print(joined)\n",
    "\n",
    "## Strings joined with the join function.\n",
    "joined = '----'.join(['This is the first half.', 'This is the second half.'])\n",
    "print(joined)"
   ]
  },
  {
   "cell_type": "markdown",
   "metadata": {},
   "source": [
    "Python has incredibly powerful natural language processing packages, including NLTK and Scrapy."
   ]
  },
  {
   "cell_type": "markdown",
   "metadata": {},
   "source": [
    "## Containers\n",
    "### Lists\n",
    "Lists are the most basic container and are denoted by brackets. Lists can store any pythonic type, and elements of a list do not need to be of the same type."
   ]
  },
  {
   "cell_type": "code",
   "execution_count": null,
   "metadata": {},
   "outputs": [],
   "source": [
    "example_list = [1, 1., 1e3, 2+3j, True,'Bear is cute']\n",
    "print(example_list)"
   ]
  },
  {
   "cell_type": "markdown",
   "metadata": {},
   "source": [
    "Brackets are used again to index into lists. **NOTE:** Python is a 0-indexed language. The first element of a list \n",
    "is the 0th position of the list! "
   ]
  },
  {
   "cell_type": "code",
   "execution_count": null,
   "metadata": {},
   "outputs": [],
   "source": [
    "elem_first = example_list[0]\n",
    "print('The first element of the list is %s.' %elem_first)\n",
    "\n",
    "elem_third = example_list[2]\n",
    "print('The third element of the list is %s.' %elem_third)\n",
    "\n",
    "elem_last = example_list[-1]\n",
    "print('The last element of the list is %s.' %elem_last)\n",
    "\n",
    "elem_third_last = example_list[-3]"
   ]
  },
  {
   "cell_type": "markdown",
   "metadata": {},
   "source": [
    "Mutliple elements from a list can be retrieved through slicing, which uses the colon operator."
   ]
  },
  {
   "cell_type": "code",
   "execution_count": null,
   "metadata": {},
   "outputs": [],
   "source": [
    "print(example_list[1:3])    # Second-through-third elements (up-to-not-include)\n",
    "print(example_list[1:])     # Second element onwards.\n",
    "print(example_list[:2])     # Up to (but not including) the third element element."
   ]
  },
  {
   "cell_type": "markdown",
   "metadata": {},
   "source": [
    "Slicing also allows for the following operations:"
   ]
  },
  {
   "cell_type": "code",
   "execution_count": null,
   "metadata": {},
   "outputs": [],
   "source": [
    "## Original list.\n",
    "print('list       = %s' %example_list)\n",
    "\n",
    "## Second-to-last element onwards\n",
    "print('list[-2:]  = %s' %example_list[-2:])  \n",
    "\n",
    "## Up to second-to-last element\n",
    "print('list[:-2]  = %s' %example_list[:-2])    \n",
    "\n",
    "## Every other element \n",
    "print('list[::2]  = %s' %example_list[::2])\n",
    "\n",
    "## Reverse elements.\n",
    "print('list[::-1] = %s' %example_list[::-1]) "
   ]
  },
  {
   "cell_type": "markdown",
   "metadata": {},
   "source": [
    "Slicing operators can be combined. Here we extract every other element, starting from the second through the second-to-last."
   ]
  },
  {
   "cell_type": "code",
   "execution_count": null,
   "metadata": {},
   "outputs": [],
   "source": [
    "print(example_list[1:-1:2])"
   ]
  },
  {
   "cell_type": "markdown",
   "metadata": {},
   "source": [
    "If feeling fancy, you can extract the contents of a list with the '*' operator before the list within function calls."
   ]
  },
  {
   "cell_type": "code",
   "execution_count": null,
   "metadata": {},
   "outputs": [],
   "source": [
    "print(*example_list)"
   ]
  },
  {
   "cell_type": "markdown",
   "metadata": {},
   "source": [
    "### Checkpoint: Manipulating Lists\n",
    "The goal of this exercise is to get used to making and manipulating lists. The elements of the to-be list are: "
   ]
  },
  {
   "cell_type": "code",
   "execution_count": null,
   "metadata": {},
   "outputs": [],
   "source": [
    "3 'Yankee' 7.6 None False 2.5e-2 'Foxtrot'"
   ]
  },
  {
   "cell_type": "markdown",
   "metadata": {},
   "source": [
    "Store the elements above in a new list."
   ]
  },
  {
   "cell_type": "code",
   "execution_count": null,
   "metadata": {},
   "outputs": [],
   "source": []
  },
  {
   "cell_type": "markdown",
   "metadata": {},
   "source": [
    "Return the 3rd element of the list."
   ]
  },
  {
   "cell_type": "code",
   "execution_count": null,
   "metadata": {},
   "outputs": [],
   "source": []
  },
  {
   "cell_type": "markdown",
   "metadata": {},
   "source": [
    "Return the 2nd-to-last element of the list."
   ]
  },
  {
   "cell_type": "code",
   "execution_count": null,
   "metadata": {},
   "outputs": [],
   "source": []
  },
  {
   "cell_type": "markdown",
   "metadata": {},
   "source": [
    "Return every third element, starting from the 2nd element."
   ]
  },
  {
   "cell_type": "code",
   "execution_count": null,
   "metadata": {},
   "outputs": [],
   "source": []
  },
  {
   "cell_type": "markdown",
   "metadata": {},
   "source": [
    "#### Back to lists\n",
    "Indexing and slicing can also be used to update elements in the list."
   ]
  },
  {
   "cell_type": "code",
   "execution_count": null,
   "metadata": {},
   "outputs": [],
   "source": [
    "example_list = [1, 1., 1e3, 2+3j, True]\n",
    "example_list[-1] = False\n",
    "example_list"
   ]
  },
  {
   "cell_type": "markdown",
   "metadata": {},
   "source": [
    "We can add new elements to the list using **append**. Note that this occurs **in-place.**"
   ]
  },
  {
   "cell_type": "code",
   "execution_count": null,
   "metadata": {},
   "outputs": [],
   "source": [
    "example_list.append( 111 )\n",
    "example_list"
   ]
  },
  {
   "cell_type": "markdown",
   "metadata": {},
   "source": [
    "**Insert** allows for adding new elements to specified positions."
   ]
  },
  {
   "cell_type": "code",
   "execution_count": null,
   "metadata": {},
   "outputs": [],
   "source": [
    "## (Index, Value)\n",
    "example_list.insert(0, 222)\n",
    "example_list"
   ]
  },
  {
   "cell_type": "markdown",
   "metadata": {},
   "source": [
    "Elements can be removed from a list using the **pop** or **remove** function. **Pop** deletes an element by its index, **remove** deletes an element by its value."
   ]
  },
  {
   "cell_type": "code",
   "execution_count": null,
   "metadata": {},
   "outputs": [],
   "source": [
    "print('Before: %s' %example_list)\n",
    "\n",
    "## Pop the third element\n",
    "example_list.pop(2)\n",
    "\n",
    "## Remove the value 111.\n",
    "example_list.remove(111)\n",
    "\n",
    "print('After: %s' %example_list)"
   ]
  },
  {
   "cell_type": "markdown",
   "metadata": {},
   "source": [
    "The contents of a list can also be tested with the **in** operator."
   ]
  },
  {
   "cell_type": "code",
   "execution_count": null,
   "metadata": {},
   "outputs": [],
   "source": [
    "print( 222 in example_list )\n",
    "print( 999 in example_list )"
   ]
  },
  {
   "cell_type": "markdown",
   "metadata": {},
   "source": [
    "As an aside, strings are essentially lists with characters."
   ]
  },
  {
   "cell_type": "code",
   "execution_count": null,
   "metadata": {},
   "outputs": [],
   "source": [
    "print('string       = %s' %string)\n",
    "\n",
    "## 4th character onwards.\n",
    "print('string[4:]   = %s' %string[4:])   \n",
    "\n",
    "## Reversed string.\n",
    "print('string[::-1] = %s' %string[::-1]) \n",
    "\n",
    "## Every other character.\n",
    "print('string[::2]  = %s' %string[::2])"
   ]
  },
  {
   "cell_type": "markdown",
   "metadata": {},
   "source": [
    "### Tuples\n",
    "Tuples are denoted by parantheses. Tuples are like lists except that they are **immutable.** Tuples cannot be modified once they are created. "
   ]
  },
  {
   "cell_type": "code",
   "execution_count": null,
   "metadata": {},
   "outputs": [],
   "source": [
    "example_list = [1, 2, 3, 4]\n",
    "example_tuple = (1, 2, 3, 4)"
   ]
  },
  {
   "cell_type": "code",
   "execution_count": null,
   "metadata": {},
   "outputs": [],
   "source": [
    "## Change the second element of the list.\n",
    "example_list[1] = 9\n",
    "print(example_list)"
   ]
  },
  {
   "cell_type": "code",
   "execution_count": null,
   "metadata": {},
   "outputs": [],
   "source": [
    "## Change the second element of the tuple.\n",
    "example_tuple[1] = 9\n",
    "print(example_tuple)"
   ]
  },
  {
   "cell_type": "markdown",
   "metadata": {},
   "source": [
    "### Dictionaries\n",
    "Dictionaries are simple lookup tables. They are denoted by curly brackets."
   ]
  },
  {
   "cell_type": "code",
   "execution_count": null,
   "metadata": {},
   "outputs": [],
   "source": [
    "example_dict = {'a':1, 'b':2, 'c':3}\n",
    "print(example_dict)\n",
    "print(example_dict['c'])\n",
    "example_dict['c']=4\n",
    "example_dict"
   ]
  },
  {
   "cell_type": "markdown",
   "metadata": {},
   "source": [
    "Dictionaries can also be generated using the **dict()** command. Notice the slightly different syntax."
   ]
  },
  {
   "cell_type": "code",
   "execution_count": null,
   "metadata": {},
   "outputs": [],
   "source": [
    "example_dict = dict(a=1, b=2, c=3)\n",
    "print(example_dict)\n",
    "print(example_dict['c'])"
   ]
  },
  {
   "cell_type": "markdown",
   "metadata": {},
   "source": [
    "Dictionaries are comprised of \"keys\" and \"values\"."
   ]
  },
  {
   "cell_type": "code",
   "execution_count": null,
   "metadata": {},
   "outputs": [],
   "source": [
    "print(example_dict.keys())\n",
    "print(example_dict.values())"
   ]
  },
  {
   "cell_type": "markdown",
   "metadata": {},
   "source": [
    "Once initialized, new key/value pairs can be stored in a dictionary."
   ]
  },
  {
   "cell_type": "code",
   "execution_count": null,
   "metadata": {},
   "outputs": [],
   "source": [
    "example_dict['d'] = 4\n",
    "print(example_dict)"
   ]
  },
  {
   "cell_type": "markdown",
   "metadata": {},
   "source": [
    "One nice feature of dictionaries is the **get** operator. This allows us to safely check for and return items in a dictionary."
   ]
  },
  {
   "cell_type": "code",
   "execution_count": null,
   "metadata": {},
   "outputs": [],
   "source": [
    "example_dict['not_here']"
   ]
  },
  {
   "cell_type": "markdown",
   "metadata": {},
   "source": [
    "## Control Flow in Python"
   ]
  },
  {
   "cell_type": "markdown",
   "metadata": {},
   "source": [
    "### For and While Loops\n",
    "For loops have a very simple syntax. "
   ]
  },
  {
   "cell_type": "code",
   "execution_count": null,
   "metadata": {},
   "outputs": [],
   "source": [
    "for x in [0, 1, 2, 3, 4]:\n",
    "    print(x)"
   ]
  },
  {
   "cell_type": "markdown",
   "metadata": {},
   "source": [
    "The same can be accomplished with **range**."
   ]
  },
  {
   "cell_type": "code",
   "execution_count": null,
   "metadata": {},
   "outputs": [],
   "source": [
    "for x in range(5): # creates iterator up until 5\n",
    "    print(x)"
   ]
  },
  {
   "cell_type": "markdown",
   "metadata": {},
   "source": [
    "Elements of a list can be directly iterated over in python."
   ]
  },
  {
   "cell_type": "code",
   "execution_count": null,
   "metadata": {},
   "outputs": [],
   "source": [
    "for x in ['how', 'now', 'brown', 'cow']:\n",
    "    print(x)"
   ]
  },
  {
   "cell_type": "markdown",
   "metadata": {},
   "source": [
    "For loops can be paired with the **enumerate** command for indexing."
   ]
  },
  {
   "cell_type": "code",
   "execution_count": null,
   "metadata": {},
   "outputs": [],
   "source": [
    "for i, x in enumerate(['how', 'now', 'brown', 'cow']): # (index,list[index])\n",
    "    print(i,x)"
   ]
  },
  {
   "cell_type": "markdown",
   "metadata": {},
   "source": [
    "The **zip** command can be used to iterate over multiple lists at once."
   ]
  },
  {
   "cell_type": "code",
   "execution_count": null,
   "metadata": {},
   "outputs": [],
   "source": [
    "list1 = [0, 2, 4, 6, 8]\n",
    "list2 = ['zero', 'two', 'four', 'six', 'eight']\n",
    "\n",
    "for a,b in zip(list1,list2):\n",
    "    print(a,b)"
   ]
  },
  {
   "cell_type": "markdown",
   "metadata": {},
   "source": [
    "A fun notation is to combine **zip** and **enumerate**."
   ]
  },
  {
   "cell_type": "code",
   "execution_count": null,
   "metadata": {},
   "outputs": [],
   "source": [
    "for i, (a, b) in enumerate(zip(list1, list2)):\n",
    "    print(i, a, b)"
   ]
  },
  {
   "cell_type": "markdown",
   "metadata": {},
   "source": [
    "**While** loops are similarly simple. While loops are initialized with a boolean statement. While True, the while loop will continue executing. Once False, the while loop terminates."
   ]
  },
  {
   "cell_type": "code",
   "execution_count": null,
   "metadata": {},
   "outputs": [],
   "source": [
    "i = 0\n",
    "while True:\n",
    "    print(i)\n",
    "    i += 1  \n",
    "    if i>=5:\n",
    "        break"
   ]
  },
  {
   "cell_type": "markdown",
   "metadata": {},
   "source": [
    "### Conditional logic with if, elif, else"
   ]
  },
  {
   "cell_type": "markdown",
   "metadata": {},
   "source": [
    "In python, the three conditional statements are if, elif, and else.\n",
    "Here we will construct a simple for-loop testing parity."
   ]
  },
  {
   "cell_type": "code",
   "execution_count": null,
   "metadata": {},
   "outputs": [],
   "source": [
    "example_list = [4, 7, 9.4]\n",
    "\n",
    "for x in example_list:\n",
    "    \n",
    "    if x % 2 == 0: \n",
    "        print('%s is even.' %x)\n",
    "        \n",
    "    elif x % 2 == 1:\n",
    "        print('%s is odd.' %x)\n",
    "        \n",
    "    else: \n",
    "        print('%s is not an integer.' %x)"
   ]
  },
  {
   "cell_type": "markdown",
   "metadata": {},
   "source": [
    "### Contiue and Break statements\n",
    "Conditional logic statements can be paired with the \"continue\" and \"break\" \n",
    "statments for additional control flow in For and While loops. The \"continue\"\n",
    "statement skips the current iteration of a For/While loop, whereas the\n",
    "\"break\" statement terminates the For/While loop.\n",
    "\n",
    "Below is an example of the continue statement. The for loop skips at the odd numbers."
   ]
  },
  {
   "cell_type": "code",
   "execution_count": null,
   "metadata": {},
   "outputs": [],
   "source": [
    "example_list = [4, 7, 9.4]\n",
    "\n",
    "for x in example_list:\n",
    "    \n",
    "    if x % 2 == 0: \n",
    "        print('%s is even.' %x)\n",
    "        \n",
    "    elif x % 2 == 1:\n",
    "        continue\n",
    "        print('%s is odd.' %x)\n",
    "        \n",
    "    else: \n",
    "        print('%s is not an integer.' %x)"
   ]
  },
  {
   "cell_type": "markdown",
   "metadata": {},
   "source": [
    "An example of the **break** statement. The for loop terminates at the first odd number."
   ]
  },
  {
   "cell_type": "code",
   "execution_count": null,
   "metadata": {},
   "outputs": [],
   "source": [
    "example_list = [4, 7, 9.4]\n",
    "\n",
    "for x in example_list:\n",
    "    \n",
    "    if x % 2 == 0: \n",
    "        print('%s is even.' %x)\n",
    "        \n",
    "    elif x % 2 == 1:\n",
    "        break\n",
    "        print('%s is odd.' %x)\n",
    "        \n",
    "    else: \n",
    "        print('%s is not an integer.' %x)"
   ]
  },
  {
   "cell_type": "markdown",
   "metadata": {},
   "source": [
    "### Checkpoint: For/While Loops\n",
    "Using a **for** or **while** loop, iterate over all integers in the range [0,250] and print every integer divisible by 11."
   ]
  },
  {
   "cell_type": "code",
   "execution_count": null,
   "metadata": {},
   "outputs": [],
   "source": []
  },
  {
   "cell_type": "markdown",
   "metadata": {},
   "source": [
    "### List comprehensions\n",
    "Python also allows for embedding For loops within lists as a nifty way of constructing/modifying lists. List comprehensions are very powerful (though sometimes memory intensive) and can be constructed with a few different syntaxes."
   ]
  },
  {
   "cell_type": "code",
   "execution_count": null,
   "metadata": {},
   "outputs": [],
   "source": [
    "example_list = [0,1,2,3,4]\n",
    "\n",
    "[x for x in example_list]\n",
    "\n",
    "\n",
    "new_list=[]\n",
    "for x in example_list:\n",
    "    new_list.append(x)\n",
    "    \n",
    "new_list == [x for x in example_list]"
   ]
  },
  {
   "cell_type": "markdown",
   "metadata": {},
   "source": [
    "Inclusive/exclusive list comprehension: here we exclude variables from the list if they do not meet a certain criterion."
   ]
  },
  {
   "cell_type": "code",
   "execution_count": null,
   "metadata": {},
   "outputs": [],
   "source": [
    "[x for x in example_list if x > 2]"
   ]
  },
  {
   "cell_type": "markdown",
   "metadata": {},
   "source": [
    "Conditional list comprehension: here we transform variables from the list based on whether they meet a certain criterion."
   ]
  },
  {
   "cell_type": "code",
   "execution_count": null,
   "metadata": {},
   "outputs": [],
   "source": [
    "['odd' if x % 2 == 1 else 'even' for x in example_list]"
   ]
  },
  {
   "cell_type": "markdown",
   "metadata": {},
   "source": [
    "Note that else statements can be chained in list comprehensions."
   ]
  },
  {
   "cell_type": "code",
   "execution_count": null,
   "metadata": {},
   "outputs": [],
   "source": [
    "example_list = [4, 7, 9.4]\n",
    "\n",
    "['odd' if x % 2 == 1 else 'even' if x % 2 == 0 else 'non-integer' for x in example_list]"
   ]
  },
  {
   "cell_type": "markdown",
   "metadata": {},
   "source": [
    "### Error handling with try/except logic.\n",
    "Python allows for intelligent error handling with the \"try\" and \"except\" logics. Code nested under a \"try\" command will be evaluated. If an error arises under a try block, the code in the except block will be evaluated instead. This is useful for handling exceptions and preventing scripts from breaking. Use with caution though if you cannot predict error corner cases!\n",
    "\n",
    "Here we will test try/except logic with a division-by-zero error. Note that I am specifying the error class, i.e. ZeroDivisionError. Python has a number of built-in error types, and it is better to specify the exact type of error you expect to ensure that only those types of errors are passed to the except block. Multiple excepts are permissible in try/except workflows."
   ]
  },
  {
   "cell_type": "code",
   "execution_count": null,
   "metadata": {},
   "outputs": [],
   "source": [
    "## An example divide by zero error.\n",
    "example_list = [2, 10, 0]\n",
    "\n",
    "for x in example_list:\n",
    "    print(20 / x)"
   ]
  },
  {
   "cell_type": "code",
   "execution_count": null,
   "metadata": {},
   "outputs": [],
   "source": [
    "## An example try/catch handling divide by zero errors.\n",
    "example_list = [2, 10, 0]\n",
    "\n",
    "for x in example_list:\n",
    "    try:\n",
    "        print(20 / x)\n",
    "    except ZeroDivisionError: \n",
    "        print('You cannot divide 0, silly!')"
   ]
  },
  {
   "cell_type": "code",
   "execution_count": null,
   "metadata": {},
   "outputs": [],
   "source": [
    "## Another way to handle errors with fewer lines is using the assert function\n",
    "example_list = [2, 10, 0]\n",
    "\n",
    "for x in example_list:\n",
    "    assert x!=0,'You cannot divide 0, silly!' # notice lack of parentheses\n",
    "    print(20 / x)"
   ]
  },
  {
   "cell_type": "markdown",
   "metadata": {},
   "source": [
    "## Basic Commands in Python"
   ]
  },
  {
   "cell_type": "markdown",
   "metadata": {},
   "source": [
    "https://docs.python.org/3/library/functions.html"
   ]
  },
  {
   "cell_type": "markdown",
   "metadata": {},
   "source": [
    "The most important command is the **range** command. "
   ]
  },
  {
   "cell_type": "code",
   "execution_count": null,
   "metadata": {},
   "outputs": [],
   "source": [
    "print('range(5)     = %s' %range(5))     # Specify stop position.\n",
    "print('range(0,5)   = %s' %range(1,5))   # Specify start & stop position\n",
    "print('range(0,5,2) = %s' %range(0,5,2)) # Specify start, stop, and by.\n",
    "\n",
    "for x in range(0,5,2):\n",
    "    print(x)"
   ]
  },
  {
   "cell_type": "markdown",
   "metadata": {},
   "source": [
    "Each python type has its own function for the purpose of converting variables to different types. "
   ]
  },
  {
   "cell_type": "code",
   "execution_count": null,
   "metadata": {},
   "outputs": [],
   "source": [
    "X = range(5)\n",
    "\n",
    "print( int(7.4) )            # To integer.\n",
    "print ( float(7) )           # To float.\n",
    "print( list(X) )             # Range as list.\n",
    "print( tuple(X) )            # Range as tuple.\n",
    "print( str([1, 12, 4]) )     # Range as string (converts to string literally)."
   ]
  },
  {
   "cell_type": "markdown",
   "metadata": {},
   "source": [
    "The **type** and **isinstance** commands can be used to check the type of variables."
   ]
  },
  {
   "cell_type": "code",
   "execution_count": null,
   "metadata": {},
   "outputs": [],
   "source": [
    "X = [1, 4, 5, 2]\n",
    "\n",
    "print( type(X) )\n",
    "print( type(X) == str )\n",
    "print( isinstance(X, list) )"
   ]
  },
  {
   "cell_type": "markdown",
   "metadata": {},
   "source": [
    "There are commands to modify lists."
   ]
  },
  {
   "cell_type": "code",
   "execution_count": null,
   "metadata": {},
   "outputs": [],
   "source": [
    "example_list = [4, 1, 5, 2, 7, 1, 2, 3]\n",
    "\n",
    "print(sorted(example_list))    # Sort list.\n",
    "print(set(example_list))       # Get unique elements of list. Returns set."
   ]
  },
  {
   "cell_type": "code",
   "execution_count": null,
   "metadata": {},
   "outputs": [],
   "source": [
    "## There are also commands to summarize lists.\n",
    "print(len(example_list))    # Count element in list.\n",
    "print(sum(example_list))    # Sum across list.\n",
    "print(min(example_list))    # Min across list.\n",
    "print(max(example_list))    # Max across list."
   ]
  },
  {
   "cell_type": "code",
   "execution_count": null,
   "metadata": {},
   "outputs": [],
   "source": [
    "## The any/all commands are very useful for testing if any \n",
    "## conditionals are met in a list.\n",
    "example_list = [True if x > 2 else False for x in range(5)]\n",
    "print(example_list)\n",
    "print(any(example_list))\n",
    "print(all(example_list))"
   ]
  },
  {
   "cell_type": "markdown",
   "metadata": {},
   "source": [
    "## Defining Functions\n",
    "Define new functions with **def** and **return** functions. Any arguments specified in the **def** statement are necessary arguments for the newly defined function. "
   ]
  },
  {
   "cell_type": "code",
   "execution_count": null,
   "metadata": {},
   "outputs": [],
   "source": [
    "def average(X):\n",
    "    '''Compute arithmetic mean for list, X.'''\n",
    "    return sum(X) / len(X)\n",
    "\n",
    "average?"
   ]
  },
  {
   "cell_type": "code",
   "execution_count": null,
   "metadata": {},
   "outputs": [],
   "source": [
    "## Define an example list.\n",
    "example_list = [2, 2, 2, 3, 3, 2, 1, 4]\n",
    "\n",
    "## Compute average.\n",
    "print( 'Average: %0.3f' %average(example_list) )"
   ]
  },
  {
   "cell_type": "markdown",
   "metadata": {},
   "source": [
    "Arguments of user-defined functions can also be assigned default parameters."
   ]
  },
  {
   "cell_type": "code",
   "execution_count": null,
   "metadata": {},
   "outputs": [],
   "source": [
    "def average(X, weights=False):\n",
    "    \"\"\"Compute arithmetic mean.\n",
    "    \n",
    "    Parameters\n",
    "    ----------\n",
    "    X : list, shape (n,)\n",
    "        A list of values.\n",
    "    weights : list, shape (n,)\n",
    "        A list weights associated with the values in `X`.\n",
    "    \n",
    "    Returns\n",
    "    -------\n",
    "    mu : float\n",
    "        (Weighted) average.\n",
    "    \"\"\"    \n",
    "    if not weights: weights = [1] * len(X)\n",
    "    return sum( [x*w for x,w in zip(X,weights)] ) / sum(weights)    "
   ]
  },
  {
   "cell_type": "markdown",
   "metadata": {},
   "source": [
    "Let's make sure it works."
   ]
  },
  {
   "cell_type": "code",
   "execution_count": null,
   "metadata": {},
   "outputs": [],
   "source": [
    "## Define some weights.\n",
    "weights = [1, 1, 1, 0.5, 0.5, 2, 4, 0.25]\n",
    "\n",
    "## Compute average / weighted average.\n",
    "print( 'Average:          %0.3f' %average(example_list) )\n",
    "print( 'Weighted average: %0.3f' %average(example_list, weights) )"
   ]
  },
  {
   "cell_type": "code",
   "execution_count": null,
   "metadata": {},
   "outputs": [],
   "source": [
    "## The lambda operator can also be used to define short functions.\n",
    "average = lambda X: sum(X) / len(X)\n",
    "\n",
    "print( 'Average: %0.3f' %average(example_list) )"
   ]
  },
  {
   "cell_type": "code",
   "execution_count": null,
   "metadata": {},
   "outputs": [],
   "source": []
  },
  {
   "cell_type": "code",
   "execution_count": null,
   "metadata": {},
   "outputs": [],
   "source": []
  }
 ],
 "metadata": {
  "kernelspec": {
   "display_name": "Python 3",
   "language": "python",
   "name": "python3"
  },
  "language_info": {
   "codemirror_mode": {
    "name": "ipython",
    "version": 3
   },
   "file_extension": ".py",
   "mimetype": "text/x-python",
   "name": "python",
   "nbconvert_exporter": "python",
   "pygments_lexer": "ipython3",
   "version": "3.9.5"
  },
  "toc": {
   "colors": {
    "hover_highlight": "#DAA520",
    "navigate_num": "#000000",
    "navigate_text": "#333333",
    "running_highlight": "#FF0000",
    "selected_highlight": "#FFD700",
    "sidebar_border": "#EEEEEE",
    "wrapper_background": "#FFFFFF"
   },
   "moveMenuLeft": true,
   "nav_menu": {
    "height": "512px",
    "width": "252px"
   },
   "navigate_menu": true,
   "number_sections": false,
   "sideBar": true,
   "threshold": 4,
   "toc_cell": false,
   "toc_section_display": "block",
   "toc_window_display": false,
   "widenNotebook": false
  }
 },
 "nbformat": 4,
 "nbformat_minor": 2
}
