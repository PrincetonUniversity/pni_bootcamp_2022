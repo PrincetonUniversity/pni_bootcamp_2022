{
 "cells": [
  {
   "cell_type": "markdown",
   "id": "4f6ff598",
   "metadata": {},
   "source": [
    "## Intro exercises"
   ]
  },
  {
   "cell_type": "markdown",
   "id": "e49feaa6",
   "metadata": {},
   "source": [
    "#### 1.a Write down the sample space for 3 consecutive coin tosses"
   ]
  },
  {
   "cell_type": "code",
   "execution_count": null,
   "id": "ae7f2968",
   "metadata": {},
   "outputs": [],
   "source": [
    "\"\"\"\n",
    "\"\"\";"
   ]
  },
  {
   "cell_type": "markdown",
   "id": "4e1356c2",
   "metadata": {},
   "source": [
    "#### 1.b Write a function that will run the experiment of tossing a coin 3 consequtive times, and will return a string of 3 characters (examples: \"HHH\" or \"HTH\" or \"TTH\" ) , where an \"H\" denotes a heads occured."
   ]
  },
  {
   "cell_type": "markdown",
   "id": "e8174bbc",
   "metadata": {},
   "source": [
    "* make sure to use the tools in scipy and numpy to make life easier for yourself\n",
    "\n",
    "* for the time being, make the coin fair"
   ]
  },
  {
   "cell_type": "code",
   "execution_count": 4,
   "id": "ef59d5e1",
   "metadata": {},
   "outputs": [],
   "source": [
    "import scipy.stats as ss\n",
    "import numpy as np\n",
    "\n",
    "def three_coin_tosses(prob_heads):\n",
    "    # your code here\n",
    "    pass "
   ]
  },
  {
   "cell_type": "markdown",
   "id": "f757ae9b",
   "metadata": {},
   "source": [
    "#### 1.c Write a function to simulate the 3 coin tosses many times:\n",
    "\n",
    "* this function will take in two input parameters which will be a string (example: \"HHT\" or \"THT\") that specifies the outcome of interest. As well as an integer telling it how many times to run the three_coin_tosses function\n",
    "\n",
    "\n",
    "* additionally this function will return the porportion that the outcome of interest occured with."
   ]
  },
  {
   "cell_type": "code",
   "execution_count": 5,
   "id": "3adfa025",
   "metadata": {},
   "outputs": [],
   "source": [
    "def simulate_coin_tosses(outcome, num_tosses):\n",
    "    # your code here\n",
    "    pass"
   ]
  },
  {
   "cell_type": "markdown",
   "id": "ffd7c37a",
   "metadata": {},
   "source": [
    "#### 1.d Use your answer from 1.a to compute the probability of two heads occuring"
   ]
  },
  {
   "cell_type": "markdown",
   "id": "32e139f9",
   "metadata": {},
   "source": [
    "#### 1.e Use the functions you wrote in 1.b and 1.c to simulate 400 coin tosses 2 different times. \n",
    "\n",
    "* One of those times use the outcome of interest: \"TTT\", in another use \"HHT\". \n",
    "\n",
    "* Make a bar plot comparing the porportion of each of the simulations\n",
    "\n",
    "* Write down what you expect those porportion to be as the number of coin tosses tends to infinity, explain why\n",
    "\n",
    "* Think about what happens if the coin is no longer fair, how does your answer to the bullet point immediately above change, if at all?"
   ]
  },
  {
   "cell_type": "markdown",
   "id": "403f43bc",
   "metadata": {},
   "source": [
    "#### 2.a In your own words, describe what a random variable is. Give an example of a random variable related to your future or current research."
   ]
  },
  {
   "cell_type": "code",
   "execution_count": null,
   "id": "9f69894d",
   "metadata": {},
   "outputs": [],
   "source": [
    "\"\"\"\n",
    "\"\"\";"
   ]
  },
  {
   "cell_type": "markdown",
   "id": "cf5d1930",
   "metadata": {},
   "source": [
    "#### 2.b Explain what makes a random variable either discrete or continuous. Import two different disbrituions from scipy and plot samples from them. One distribution should be discrete and the other continuous."
   ]
  },
  {
   "cell_type": "code",
   "execution_count": null,
   "id": "3f58db5d",
   "metadata": {},
   "outputs": [],
   "source": [
    "\"\"\"\n",
    "\"\"\";"
   ]
  },
  {
   "cell_type": "markdown",
   "id": "dcf67f56",
   "metadata": {},
   "source": [
    "#### 2.c What are the range of numbers that evaluating a density function can return?"
   ]
  },
  {
   "cell_type": "code",
   "execution_count": null,
   "id": "c6e7f0c8",
   "metadata": {},
   "outputs": [],
   "source": [
    "\"\"\"\n",
    "\"\"\";"
   ]
  },
  {
   "cell_type": "markdown",
   "id": "fbf9a735",
   "metadata": {},
   "source": [
    "## Algebra practice"
   ]
  },
  {
   "cell_type": "markdown",
   "id": "c7a4db1d",
   "metadata": {},
   "source": [
    "Factor $P(A, B | C, D)$ using the chain rule of probability (product rule) in at least 2 different ways."
   ]
  },
  {
   "cell_type": "code",
   "execution_count": 1,
   "id": "0f9aac21",
   "metadata": {},
   "outputs": [],
   "source": [
    "\"\"\"\n",
    "\"\"\";"
   ]
  },
  {
   "cell_type": "markdown",
   "id": "90406bfd",
   "metadata": {},
   "source": [
    "Use Bayes rule on $P(A, B | C, D)$ so that you end up with the posterior $P(C | D, A, B)$, assume $A$ and $D$ are discrete random variables, while $B$ is continuous. Explicitly write out the integration and summation in the denominator"
   ]
  },
  {
   "cell_type": "code",
   "execution_count": 2,
   "id": "5d6a0ff0",
   "metadata": {},
   "outputs": [],
   "source": [
    "\"\"\"\n",
    "\"\"\";"
   ]
  },
  {
   "cell_type": "markdown",
   "id": "0ca87073",
   "metadata": {},
   "source": [
    "Two students are using the chain rule to factor the statement $P(A, B, C | D)$ as $P(A, B | something)$\n",
    "\n",
    "* student 1 arrives at the factorization: $P(A, B | C, D) P(C |D) P(D)$\n",
    "\n",
    "* student 2 has $P(A, B | C, D) P(C | D)$\n",
    "\n",
    "who is correct? Explain why"
   ]
  },
  {
   "cell_type": "code",
   "execution_count": 3,
   "id": "ab6d8f29",
   "metadata": {},
   "outputs": [],
   "source": [
    "\"\"\"\n",
    "\"\"\";"
   ]
  },
  {
   "cell_type": "markdown",
   "id": "b14e345d",
   "metadata": {
    "colab_type": "text",
    "id": "108NYAU_TPGF"
   },
   "source": [
    "## More on the Bayes for Neuroscience\n",
    "Recall that usually when we think about experiments we reason in terms of **random variables**. These random variables have distributions, sometimes continuous, othertimes discrete. \n",
    "\n",
    "For example we might say that the number of spikes from a particlar neuron is a random variable, and that this random variable has a Poisson distribution. \n",
    "\n",
    "So we can write: \n",
    "\n",
    "$X$ is the random variable for the number of spikes and it can take on (become) an element from the set of positive integers, we'll call that element $k$. We write this statement compactly as:\n",
    "\n",
    "$$P(X = k) = Poisson(k; \\lambda) = \\frac{\\lambda^k e ^{-\\lambda}}{k!}$$\n",
    "\n",
    "\n",
    "### Notation\n",
    "\n",
    "Sometimes you'll see: $X \\sim Poisson(\\lambda)$, this is saying that $X$ is distributed according to a Poisson distribution with rate parameter $\\lambda$. Further it specifies to us that that because $X$ is distributed according to a Poisson distribution, we can compute the probabilities of certain counts by evaluating its probability mass function (shown above), with particular $\\lambda$ and $k$ values.\n",
    "\n",
    "* Is this a continous or discrete distribution, why or why not?"
   ]
  },
  {
   "cell_type": "markdown",
   "id": "b2933adf",
   "metadata": {
    "colab_type": "text",
    "id": "fmUHvh_gRilW"
   },
   "source": [
    "## Relation to terms in Bayes stuff\n",
    "\n",
    "Continuing with the example above, we'll also code up, and relate terms from the individual elements of Bayes theorem to performing particular (somewhat routine?) tasks.\n",
    "\n",
    "As you'll remember, Bayes theorem tells us:\n",
    "\n",
    "$$P(A|B) = \\frac{P(B|A)P(A)}{P(B)}$$\n",
    "\n",
    "For our example of a spiking neuron we'll use the following notation:\n",
    "\n",
    "* number of spikes at index $t$: $k$\n",
    "\n",
    "* rate parameter for the spikes: $\\lambda$\n",
    "\n",
    "and so we have: \n",
    "\n",
    "$$P(spikerate | spikes_t) = \\frac{P(spikes_t|spikerate)P(spikerate)}{P(spikes_t)}$$\n",
    "\n",
    "or compactly as:\n",
    "\n",
    "$$P(\\lambda | k) = \\frac{P(k | \\lambda)P(\\lambda)}{P(k)}$$\n",
    "\n",
    "$P(\\lambda)$ is the term called the prior. We can assign distributions to parameters such as $\\lambda$, for example: \n",
    "\n",
    "$$P(\\lambda) = Gamma(\\lambda; \\alpha, \\beta) = \\frac{\\beta^{\\alpha}\\lambda^{\\alpha - 1}e^{-\\beta \\lambda}}{\\Gamma(\\alpha)}$$"
   ]
  },
  {
   "cell_type": "markdown",
   "id": "8f2add5e",
   "metadata": {
    "colab_type": "text",
    "id": "1Eaz9CaKRilX"
   },
   "source": [
    " ## Exercise: \n",
    " \n",
    "Code up as is done for the coin flip example, how you'd arrive at a posterior distribution for the rate parameter of a spiking neuron. For more context, say you've collected data from a particular neuron in the form of spikes. This neuron spikes at a particular rate, and you want to try and estiamte what rate it spikes at, by using the data you have available. To do this you'll use Bayes rule, the Poisson distribution as defined above for the likelihood term in Bayes rule, and the Gamma distribution as defined above for the prior term in Bayes rule. "
   ]
  },
  {
   "cell_type": "markdown",
   "id": "ac6a418c",
   "metadata": {},
   "source": [
    "* First let's get a feel for what these distributions produce when you sample from them"
   ]
  },
  {
   "cell_type": "code",
   "execution_count": null,
   "id": "476fa178",
   "metadata": {},
   "outputs": [],
   "source": [
    "# import the correct distribution from scipy\n",
    "from scipy.stats import gamma, poisson\n",
    "\n",
    "# use the poisson object imported above to simulate random samples and plot them\n",
    "# to get a feel for what the outputs are\n",
    "# samples from a poisson will be integers, does this make sense?\n",
    "\n",
    "# do the above for a gamma distribution\n",
    "# samples from a gamma will be floating point numbers, can you reason why this is so?"
   ]
  },
  {
   "cell_type": "markdown",
   "id": "4615bb75",
   "metadata": {},
   "source": [
    "* tackling the problem - use the code written in the coin flip example as a guide"
   ]
  },
  {
   "cell_type": "code",
   "execution_count": null,
   "id": "226edbd9",
   "metadata": {
    "colab": {},
    "colab_type": "code",
    "id": "xKFTPoYfRilY"
   },
   "outputs": [],
   "source": [
    "true_rate = 4.5 # this is what we hope to estimate\n",
    "spikes = poisson(true_rate).rvs(5000) # this is your data\n",
    "\n",
    "# start by defining variables that will be needed to keep track of the updates\n",
    "\n",
    "# iterate through your data points\n",
    "\n",
    "# work out the algebra to figure out how to update your variables \n",
    "\n",
    "# create the posterior object distribution\n",
    "\n",
    "# plot the density evaluted at many different points to see which values of a rate are more likely"
   ]
  }
 ],
 "metadata": {
  "kernelspec": {
   "display_name": "Python 3",
   "language": "python",
   "name": "python3"
  },
  "language_info": {
   "codemirror_mode": {
    "name": "ipython",
    "version": 3
   },
   "file_extension": ".py",
   "mimetype": "text/x-python",
   "name": "python",
   "nbconvert_exporter": "python",
   "pygments_lexer": "ipython3",
   "version": "3.8.5"
  }
 },
 "nbformat": 4,
 "nbformat_minor": 5
}
