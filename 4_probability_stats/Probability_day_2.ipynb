{
 "cells": [
  {
   "cell_type": "markdown",
   "id": "17f2c405",
   "metadata": {},
   "source": [
    "## Conditional probability\n",
    "\n",
    "First a point about notation. If A is an event we usually abbreviate saying “probability of event A” as: P(A). When we condition on some other event occurring we add a vertical bar to say we are considering what that probability would be, if the other event occurred (note that chronological order is not important!): P(A|B) \n",
    "\n",
    "Note here that this is still the probability of A, and not the probability of the event A|B.\n",
    "\n",
    "For intuition consider the diagram below: \n",
    "\n",
    "<div>\n",
    "<img src=\"images/cond_prob_pebbles.png\" width=\"500\"/>\n",
    "</div>\n",
    "\n",
    "\n",
    "At the most left we have the total sample space with two groups of events A, and B. Then we consider P(A|B) by conditioning on B occurring, so we eliminate all of the things in A that aren’t also in B. Then on the most right we have to make sure it is still a valid probability (that it is between 0 and 1) so we normalize. "
   ]
  },
  {
   "cell_type": "markdown",
   "id": "7cfd12ca",
   "metadata": {},
   "source": [
    "## Joint probability\n",
    "\n",
    "In the visual of the table we have a joint probability distirubtion. It is the probability that two **random variables** (we'll get into what a random variable means shortly) occur together. And each random variable can take on particular values. Joint probabilities can be thought of as tables for 2 random variables, cubes for 3 random variables, and \"hyper-cubes\" (fancy name for something we can't imagine) for 4 or more random variables. \n",
    "\n",
    "Going back to two random variables consider the table below, and imagine that the color black means a joint probability really close to zero, and more towards white means they have a larger joint probability:\n",
    "\n",
    "<div>\n",
    "<img src=\"images/joint_prob_dens.png\" width=\"300\"/>\n",
    "</div>\n"
   ]
  },
  {
   "cell_type": "markdown",
   "id": "c0d0e8a6",
   "metadata": {
    "colab_type": "text",
    "id": "zC09FZPMx2tR"
   },
   "source": [
    "## Conditional, Marginal Probability \n",
    "\n",
    "\n",
    "We can then consider the **joint pmf** of $X$ and $Y$ as $p(x, y) = P(X = x, Y = y)$. In other words, this is the probability of X *and* Y taking on those values. \n",
    "\n",
    "For a discrete random variables, we can look at joint probabilities like a table. \n",
    "\n",
    "Here we have $P(x, y)$ with the rows taking the x values, and columns y values \n",
    "\n",
    "|| | | | | \n",
    "|-|-|-|-|-| \n",
    "||**x=-2**|**x=-1**|**x=0**|**x=1**|\n",
    "|**y=4**|.01 |.03 |.07 |.08 | \n",
    "|**y=5**|.03 |.07 |.14 |.07 | \n",
    "|**y=6**|.07 |.14 |.07 |.03 | \n",
    "|**y=7**|.08 |.07 |.03 |.01 |\n",
    "\n",
    "So we can consider, say, $P( x = -2, y = 5) = 0.03$ by this lookup table. \n",
    "\n",
    "We can consider the **marginal pmfs** of a joint pmf, which is the probability of only one variable, regardless of the other variables' values. Concretely, this means, given joint pmf $p(x, y)$, the marginal pmf of X is $P(X = x)$ regardless of what value $Y$ takes and the marginal pmf of Y is $P(Y = y)$ regardless of what value $X$ takes. \n",
    "\n",
    "Mathematically, we can define this as\n",
    "\n",
    "$P(X = x) = \\sum_{y \\in \\mathcal{Y}} P(X = x, Y = y)$ \n",
    "\n",
    "$P(Y = y) = \\sum_{x \\in \\mathcal{X}} P(X = x, Y = y)$ \n",
    "\n",
    "Intuitively, we can look at our table and essentially *sum* down a row or column. \n",
    "\n",
    "For example, given our discrete probabilities above, if we're looking for $P(X = x)$, we will sum all the rows. "
   ]
  },
  {
   "cell_type": "code",
   "execution_count": null,
   "id": "a502d15c",
   "metadata": {
    "colab": {
     "base_uri": "https://localhost:8080/",
     "height": 299
    },
    "colab_type": "code",
    "id": "TZl30FpM4kVp",
    "outputId": "37ef13ac-3b16-4552-82b2-a7bd7af425e7"
   },
   "outputs": [
    {
     "name": "stdout",
     "output_type": "stream",
     "text": [
      "P(X = x) =  [0.19 0.31 0.31 0.19]\n"
     ]
    },
    {
     "data": {
      "text/plain": [
       "<BarContainer object of 4 artists>"
      ]
     },
     "execution_count": 67,
     "metadata": {
      "tags": []
     },
     "output_type": "execute_result"
    },
    {
     "data": {
      "image/png": "[encoded data removed]",
      "text/plain": [
       "<Figure size 432x288 with 1 Axes>"
      ]
     },
     "metadata": {
      "needs_background": "light",
      "tags": []
     },
     "output_type": "display_data"
    }
   ],
   "source": [
    "P_xy = np.array([[.01, .03, .07, .08], [.03, .07, .14, .07], [.07, .14, .07, .03], [.08, .07, .03, .01]])\n",
    "P_x = np.sum(P_xy, axis = 0)\n",
    "print(\"P(X = x) = \", P_x)\n",
    "\n",
    "plt.bar([-2, -1, 0, 1], P_x)"
   ]
  },
  {
   "cell_type": "markdown",
   "id": "bb978340",
   "metadata": {
    "colab_type": "text",
    "id": "n_J4YK7z5glk"
   },
   "source": [
    "Note that like all pmfs, we can see that $\\sum_{x \\in X} p(x) = 1$\n",
    "\n",
    "\n",
    "Another important pmf we can derive from joint pmfs are **Conditional PMFs.** Unlike marginal pmfs, which is the pmf for $X = x$ irrespective of the value of $Y$, conditional pmfs is the pmf for $X = x$ *given* that $Y$ is a specific value $y$. \n",
    "\n",
    "Mathematically, that is defined as: \n",
    "\n",
    "$P(X = x | Y = y) = \\frac {P(X = x, Y = y)}{P(Y = y)}$\n",
    "\n",
    "$P(Y = y | X = x) = \\frac {P(X = x, Y = y)}{P(X = x)}$\n",
    "\n",
    "\n",
    "Intuitively, we can calculate the conditional pmf by looking at the specific row/column for the variable we want to condition on. \n",
    "\n",
    "For example, if we want $P(y|x = -1)$, we will look at the second column for $x = -1$. \n",
    "\n",
    "\n",
    "|| | | | | \n",
    "|-|-|-|-|-| \n",
    "||**x=-2**|**x=-1**|**x=0**|**x=1**|\n",
    "|**y=4**|.01 |**.03** |.07 |.08 | \n",
    "|**y=5**|.03 |**.07**  |.14 |.07 | \n",
    "|**y=6**|.07 |**.14** |.07 |.03 | \n",
    "|**y=7**|.08 |**.07** |.03 |.01 |\n",
    "\n",
    "But note that the column doesn't sum to 1-- we need to scale the column's values by the marginal pmf $P(x = -1)$. This is the intuition behind the mathematical definition of the conditional pmf, i.e. \n",
    "\n",
    "$P(Y = y|x = -1) = \\frac{P(y, x = -1)}{P(x = -1)}$\n",
    "\n",
    "From our earlier example, we know $P(x = -1) = 0.31$, so we just need to take our column and scale it by the marginal probability.  "
   ]
  },
  {
   "cell_type": "code",
   "execution_count": null,
   "id": "55979ebd",
   "metadata": {
    "colab": {
     "base_uri": "https://localhost:8080/",
     "height": 34
    },
    "colab_type": "code",
    "id": "73yk78UVEKHl",
    "outputId": "9743cad2-ab06-4bdb-e4cd-3bb1876c8c37"
   },
   "outputs": [
    {
     "name": "stdout",
     "output_type": "stream",
     "text": [
      "P(Y = y | x = -1) =  [0.09677419 0.22580645 0.4516129  0.22580645]\n"
     ]
    }
   ],
   "source": [
    "P_y_given_x = P_xy[:,1] / 0.31\n",
    "print(\"P(Y = y | x = -1) = \", P_y_given_x)"
   ]
  },
  {
   "cell_type": "markdown",
   "id": "7a142a7a",
   "metadata": {},
   "source": [
    "# Probability Algebra"
   ]
  },
  {
   "cell_type": "markdown",
   "id": "27f0db6c",
   "metadata": {
    "colab_type": "text",
    "id": "qmFXSnA7eUq-"
   },
   "source": [
    "## The product (also called chain) rule of probability\n",
    "\n",
    "If we are considering the probability of two random variables in tandem we write this down as: $P(A, B)$\n",
    "\n",
    "In probability theory there is a rule we can apply referred to the product rule, or the chain rule that allows us to rewrite $P(A, B)$ as: \n",
    "\n",
    "$$P(A, B) = P(A|B)P(B)$$\n",
    "\n",
    "in addition we should note that the application of this rule is symmetric in the sense that we could have also written:\n",
    "\n",
    "$$P(A, B) = P(B|A)P(A)$$\n",
    "\n",
    "later you'll learn, or as you'll remember, this symmetry allows you to write down conditional probabilities in terms of **likelihoods, priors, and marginals** \n",
    "\n",
    "* Write down what the application of the product rule to $P(X, Y)$ gives. (Write this down both ways as above)\n",
    "* Equate both ways of writing down $P(X, Y)$ after applying the product rule to each other and manipulate the equation such that only one statement of $P(\\cdot)$ is on either the left or right side. Do this 3 different ways"
   ]
  },
  {
   "cell_type": "markdown",
   "id": "5e89da37",
   "metadata": {
    "colab_type": "text",
    "id": "3y7xg8tOkbgL"
   },
   "source": [
    "## Independence\n",
    "\n",
    "If two random variables are independent, then when we apply the chain rule, we no longer need to condition: \n",
    "\n",
    "$$P(A, B) = P(A)P(B)$$\n",
    "\n",
    "This is telling us that no matter our choice of $A$, $P(B)$ is unchanged (and vice versa).\n",
    "\n",
    "Imagine that $A$ is the random variable for the sidewalk being wet. Further imagine that $B$ is the random variable for it raining. Now imagine this is in a strange planet where sidewalks deflect rain back to the sky (but they can still get wet if say, you dropped a tea drink on the sidewalk). This means that the sidewalk being wet is completely independent of it raining, because no matter if it rains, by the magical property of the sidewalk, this will never cause it to get wet. As for the other direction, when the sidewalk deflects the rain back up, the rain then goes to another dimension, and this has the consequence of having no consequence on whether it rains again or not. And so again, the probability of it raining is independent of the sidewalk being wet. \n",
    "\n",
    "Why did we need that last clause? Well because if the sidewalk being dry DID have an impact on the probability of it raining, then we could not say that $P(B|A) = P(B)$, because $A$ contains the values {wet, not-wet}, and so $B$ must be indpendent of all values for which $A$ can become."
   ]
  },
  {
   "cell_type": "markdown",
   "id": "8108b91e",
   "metadata": {
    "colab_type": "text",
    "id": "xwS1gdNBeUq_"
   },
   "source": [
    "\n",
    "\n",
    "This is less a point of technicality, rather more on the side of interpretation. It is very much in line with how we should think of $P(A|B)$ as only a function of $A$. Said another way, $P(A|B)$ should hold the same meaning as $P(X)$ in the sense that we are only considering the distribution over one variable, the one to the left of the verticle bar (and when there is only one variable you can imagine there is a verticle bar, with some prior information being conditioned on). \n",
    "\n",
    "Keeping this view in mind, then it is easy to apply the chain rule while holding a conditioning set constant: \n",
    "\n",
    "$$P(A, B | C) = P(A|B, C)P(B|C)$$\n",
    "\n",
    "\n",
    "* Write down what $P(X, Y| A, C)$ is aftering using the product rule to expand it as a product of 2 terms (e.g. the answer should be of the form: $P(X, Y| A, C) = P(\\cdot)P(\\cdot)$\n",
    "\n",
    "_hint: treat (A, C) = D and rewrite the relation above_"
   ]
  },
  {
   "cell_type": "markdown",
   "id": "f777a858",
   "metadata": {
    "colab_type": "text",
    "id": "0Xao6bQjeUrC"
   },
   "source": [
    "## Manipulation with Bayes rule\n",
    "\n",
    "Bayes rule tells you how to compute a particular conditional probability, from a different conditional probability, in particular if we want $P(A|B)$ but only have $P(B|A)$ (and a some additional information) we can use Bayes rule to get at the desired quantity. Using: \n",
    "\n",
    "$$P(A|B) = \\frac{P(B|A)P(A)}{P(B)}$$\n",
    "\n",
    "some things to note, in modeling: \n",
    "\n",
    "$P(A)$ is often called the prior\n",
    "\n",
    "$P(B|A)$ is often called the likelihood \n",
    "\n",
    "$P(B)$ is often called the marginal evidence\n",
    "\n",
    "$P(A|B)$ is called the posterior\n",
    "\n",
    "* Use Bayes rule to write down $P(Z|Y)$ as a product of the likelihood and prior, divided by the marginal evidence"
   ]
  },
  {
   "cell_type": "markdown",
   "id": "431c755e",
   "metadata": {
    "colab_type": "text",
    "id": "2iFO1KsSeUrD"
   },
   "source": [
    "At the risk of beating a dead horse, let's try to give the different variables in Bayes rule a bit of meaning to help us remember how to apply it in general. \n",
    "\n",
    "$P(A|B)$ considers the probability of $A$, after incorporating the information about $B$.\n",
    "\n",
    "$P(B|A)$ is the current evidence for $B$, taking into acount what we know about some particular aspect of $A$\n",
    "\n",
    "$P(A)$ is our prior knowledge of some particular aspect of $A$\n",
    "\n",
    "$P(B)$ is a marginal probability, where we have \"marginalized out\" $A$, that is, it is $P(B|A)P(A)$ for all possible values of $A$"
   ]
  },
  {
   "cell_type": "markdown",
   "id": "bbfbd528",
   "metadata": {
    "colab_type": "text",
    "id": "Tex_4nxaRilJ"
   },
   "source": [
    "## Using Bayes theorem to infer the probability of a biased coin\n",
    "\n",
    "Here's the scenario, we have a biased coin that comes up heads roughly 46 % of the time and tails the rest. We're going to use the knowledge of some of the distributions we just learned about to try and figure out this bias, using random samples of data. To do this we'll use Bayes rule, as it will tell us exactly how to do it. \n",
    "\n",
    "If we want to write down this task in the usual notation we have to define some terms:\n",
    "\n",
    "$h = heads$ = head bias\n",
    "\n",
    "$t = tails$ = tail bias\n",
    "\n",
    "$b = belief$ = prior belief of heads\n",
    "\n",
    "$d = data$ = set of data points\n",
    "\n",
    "$$P(belief|data) = \\frac{P(data|belief)P(belief)}{\\int P(data|belief)P(belief) \\mathop{d belief}}$$\n",
    "\n",
    "and more compactly as:\n",
    "\n",
    "$$P(b|d) = \\frac{P(d|b)P(b)}{\\int P(d|b)P(b) \\mathop{d b}}$$\n",
    "\n",
    "\n",
    "let's step through this one data sample at a time:\n",
    "\n",
    "We have some prior belief for the bias of the coin, this prior belief is encoded in a Beta distribution (because we say we believe the coin will come up heads some % of the time and that % must be between 0 and 1). this distribution has the form: \n",
    "\n",
    "$$P(b) = P(b| \\alpha, \\beta) = \\frac{\\Gamma(\\alpha)\\Gamma(\\beta)}{\\Gamma(\\alpha + \\beta)} b^{\\alpha - 1}(1-b)^{\\beta -1 }$$\n",
    "\n",
    "Then we get a data point, we toss the coin. As we learned above the distribution of a coin is a Bernoulli so we can also write: \n",
    "\n",
    "$$P(d|b) = b^d(1-b)^{(1-d)}$$\n",
    "\n",
    "\n",
    "Now just as we see in Bayes theorem, these two terms are being multiplied. So we can do the same:\n",
    "\n",
    "$$\\Big( b^d(1-b)^{(1-d)} \\Big) \\Big(\\frac{\\Gamma(\\alpha)\\Gamma(\\beta)}{\\Gamma(\\alpha + \\beta)} b^{\\alpha - 1}(1-b)^{\\beta -1 }\\Big)$$\n",
    "\n",
    "OK, so now we have to mention that using Beta and Bernoulli distributions in this fashion is actually a special case where Bayes rule works out nicely enough to be done with pure algebra. Usually, we can't do what we are about to do because the functions of the different terms don't have the same form as they do above. Notice:\n",
    "\n",
    "$P(d|b)$ has $b^d$, and $P(b)$ has $b^{\\alpha-1}$ that means (by the rules of exponents): \n",
    "\n",
    "$$b^d \\times b^{\\alpha-1} = b^{d + \\alpha - 1}$$\n",
    "\n",
    "and again: $P(d|b)$ has $(1-b)^{1-d}$ and $P(b)$ has $(1 - b)^{\\beta - 1}$ , so:\n",
    "\n",
    "$$(1-b)^{1-d} \\times (1 - b)^{\\beta - 1} = (1 - b)^{1-d + \\beta - 1}$$\n",
    "\n",
    "if we combine these steps we get \n",
    "\n",
    "$$b^{d + \\alpha- 1}(1-b)^{1 - d + \\beta - 1}$$\n",
    "\n",
    "again, please notice that in $d + \\alpha - 1$, this is exactly  $\\alpha - 1$ in the original case, if we define: $\\alpha' = d + \\alpha$, then we have $b^{\\alpha' - 1}$\n",
    "\n",
    "and in $1 - d + \\beta -1$, we can define: $\\beta' = 1 - d + \\beta$, so  we have again the original form of $(1-b)^{\\beta' - 1}$\n",
    "\n",
    "at this point we can see that this result is exactly a Beta distribtuion of the form: \n",
    "\n",
    "$$P(b|d) =  \\frac{\\Gamma(\\alpha')\\Gamma(\\beta')}{\\Gamma(\\alpha' + \\beta')} b^{\\alpha' - 1}(1-b)^{\\beta' -1 }$$\n",
    "\n",
    "the above suggests something, and that's basically that we only need to keep track of $\\alpha'$ and $\\beta'$, as new data come in. So long as we keep track of this, we can plug these new paramters into the form of a Beta distribution. So how do we keep track of this? Well as we just saw:\n",
    "\n",
    "* We add the new sample to the previous $\\alpha$\n",
    "* We add 1 minus the new sample to the preveious $\\beta$\n",
    "\n",
    "OK, thats great and all, but what was the task? It was to infer the bias of the coin. However what we've arrived at is how to get to the function of the posterior distribution for that bias. What if I said, just give me one number, of what that you think that bias might be after observing all the data. What would be the correct thing to give me? One obvious answer is, it's the number between 0 and 1 for which our $P(b|d)$ function gives the highest output. And it turns out that this number will be: \n",
    "\n",
    "$$b = \\frac{\\alpha'}{\\alpha' + \\beta'}$$"
   ]
  },
  {
   "cell_type": "code",
   "execution_count": null,
   "id": "6e59381e",
   "metadata": {
    "colab": {
     "base_uri": "https://localhost:8080/",
     "height": 391
    },
    "colab_type": "code",
    "id": "2OhIztnSRilJ",
    "outputId": "2ba7dcf8-0cf5-4692-e502-d51ec2cddaf2"
   },
   "outputs": [
    {
     "data": {
      "text/plain": [
       "Text(0.65, 6, 'true head bias= 0.46\\nestimated head bias = 0.411')"
      ]
     },
     "execution_count": 40,
     "metadata": {
      "tags": []
     },
     "output_type": "execute_result"
    },
    {
     "data": {
      "image/png": "[encoded data removed]",
      "text/plain": [
       "<Figure size 720x432 with 1 Axes>"
      ]
     },
     "metadata": {
      "needs_background": "light",
      "tags": []
     },
     "output_type": "display_data"
    }
   ],
   "source": [
    "np.random.seed(3434)\n",
    "\n",
    "head_bias = 0.46\n",
    "\n",
    "sampleDistribution = bernoulli(head_bias)\n",
    "\n",
    "# apriori, we have no reason to expect that the coin is biased in any way\n",
    "# so we assume it's fair and say we believe that head and tail both come up in equal proportions\n",
    "num_heads, num_tails = 1, 1\n",
    "\n",
    "# change this number and re-run this code to see how the plot varies\n",
    "n_samples = 200\n",
    "\n",
    "data = sampleDistribution.rvs(n_samples)\n",
    "\n",
    "for sample_idx in range(n_samples):\n",
    "    num_heads += data[sample_idx]\n",
    "    num_tails += 1 - data[sample_idx]\n",
    "\n",
    "# this is alpha' / (alpha' + beta') in the explanation above   \n",
    "best_posterior_point_estimate = num_heads / (num_heads + num_tails)\n",
    " \n",
    "from scipy.stats import beta\n",
    "posteriorBeta = beta(num_heads, num_tails)\n",
    "x = np.concatenate([np.linspace(start=0, stop=best_posterior_point_estimate, num=100),\n",
    "                   np.linspace(start=best_posterior_point_estimate, stop=1, num=100)])\n",
    "\n",
    "plt.figure(figsize=(10, 6))\n",
    "plt.plot(x, posteriorBeta.pdf(x), lw=3)\n",
    "plt.plot(x, beta(num_heads+18.5, num_tails).pdf(x), lw=3)\n",
    "plt.axvline(best_posterior_point_estimate, linestyle=\"--\", color=\"black\")\n",
    "plt.axvline(head_bias, linestyle=\"--\", color=\"red\")\n",
    "plt.legend([\"estimated posterior\", \"true posterior\", \"estimated MAP\", \"true MAP\"])\n",
    "plt.annotate(xy=(0.65, 6), s=f\"true head bias= {head_bias}\\nestimated head bias = {round(best_posterior_point_estimate, 3)}\")"
   ]
  },
  {
   "cell_type": "markdown",
   "id": "25b3293c",
   "metadata": {},
   "source": [
    "## How to get from individual samples to an entire dataset\n",
    "\n",
    "There are no more problems to do here, I just want to explain how we relate entire datasets, to the procedure we've applied above. \n",
    "\n",
    "\n",
    "In both the coin flip example and the spiking neuron example we looked at each sample of data individually, one at a time. How this relates to an entire dataset can be a little opaque. Usually instead of a single point, you'll have a dataset of points which you'll denote with a capital letter (for now let's say by convention we'll use lowercase for points and uppder case for datasets): $D$\n",
    "\n",
    "If we use this in our notation for Bayes rule we have:\n",
    "\n",
    "$$P(\\lambda | D) = \\frac{P(D|\\lambda)P(\\lambda)}{P(D)}$$\n",
    "\n",
    "so can we just use the entire dataset in the same way? Well, first let's break this down a little more.\n",
    "\n",
    "We know that $D$ contains all data points, so if we index a data point with the parameter $t$, we can rewrite $D$ as:\n",
    "\n",
    "$$D = (d_1, d_2, ... d_t, d_{t+1}, ..., d_N)$$\n",
    "\n",
    "Lets plug this into Bayes rule:\n",
    "\n",
    "\n",
    "$$P(\\lambda|d_1, d_2, ... d_t, d_{t+1}, ..., d_N) = \\frac{P(d_1, d_2, ... d_t, d_{t+1}, ..., d_N|\\lambda)P(\\lambda)}{P(d_1, d_2, ... d_t, d_{t+1}, ..., d_N)}$$\n",
    "\n",
    "we can also abbreviate the above to make it easier to read by saying (and you might see some people write it this way):\n",
    "\n",
    "$$d_{1:N} = (d_1, d_2, ... d_t, d_{t+1}, ..., d_N)$$\n",
    "\n",
    "but for now, to avoid too much remapping of terms let's stick with $D = (d_1, d_2, ... d_t, d_{t+1}, ..., d_N)$.\n",
    "\n",
    "To get from a single datapoint as we did above, where $k$ is one data point in the spiking neuron example we use an assumption of independence. And in particular, conditional independence. We say, by conditioning on the rate parameter $\\lambda$, we can break up each data point, and treat them as indpendent of one another. This transforms the above definition for the entire dataset, using Bayes rule into (**note that all we're doing below is using the same principle we learned about at the start of this notebook**):\n",
    "\n",
    "$$P(\\lambda|d_1, d_2, ... d_t, d_{t+1}, ..., d_N) = \\frac{P(d_1, d_2, ... d_t, d_{t+1}, ..., d_N|\\lambda)P(\\lambda)}{P(d_1, d_2, ... d_t, d_{t+1}, ..., d_N)} = \\prod_{t=1}^N \\frac{P(d_t|\\lambda)P(\\lambda)}{P(d_t)}$$\n",
    "\n",
    "\n",
    "technically our estimate of $\\lambda$ is changing aswell but for now we won't index it. To stop myself from writing a book, I'll leave it here and encourage you all to plug in the individual terms (as in the coin flip example or the spiking neuron example) for $P(d_t|\\lambda)$ and $P(\\lambda)$, and do the algebra to see that we infact still arrive at the same answer."
   ]
  }
 ],
 "metadata": {
  "kernelspec": {
   "display_name": "Python 3",
   "language": "python",
   "name": "python3"
  },
  "language_info": {
   "codemirror_mode": {
    "name": "ipython",
    "version": 3
   },
   "file_extension": ".py",
   "mimetype": "text/x-python",
   "name": "python",
   "nbconvert_exporter": "python",
   "pygments_lexer": "ipython3",
   "version": "3.8.5"
  }
 },
 "nbformat": 4,
 "nbformat_minor": 5
}
